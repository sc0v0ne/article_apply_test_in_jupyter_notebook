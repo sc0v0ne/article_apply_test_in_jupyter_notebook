{
 "cells": [
  {
   "cell_type": "markdown",
   "metadata": {
    "pycharm": {
     "name": "#%% md\n"
    }
   },
   "source": [
    "----------\n",
    "# Environment "
   ]
  },
  {
   "cell_type": "code",
   "execution_count": 1,
   "metadata": {
    "pycharm": {
     "name": "#%%\n"
    }
   },
   "outputs": [],
   "source": [
    "import pandas as pd"
   ]
  },
  {
   "cell_type": "markdown",
   "metadata": {},
   "source": [
    "------------\n",
    "# EDA"
   ]
  },
  {
   "cell_type": "code",
   "execution_count": 4,
   "metadata": {
    "pycharm": {
     "name": "#%%\n"
    }
   },
   "outputs": [
    {
     "data": {
      "text/plain": [
       "(961, 6)"
      ]
     },
     "execution_count": 4,
     "metadata": {},
     "output_type": "execute_result"
    }
   ],
   "source": [
    "df = pd.read_csv('data/mamografia.csv')\n",
    "df.shape"
   ]
  },
  {
   "cell_type": "code",
   "execution_count": 6,
   "metadata": {
    "pycharm": {
     "name": "#%%\n"
    }
   },
   "outputs": [
    {
     "data": {
      "text/html": [
       "<div>\n",
       "<style scoped>\n",
       "    .dataframe tbody tr th:only-of-type {\n",
       "        vertical-align: middle;\n",
       "    }\n",
       "\n",
       "    .dataframe tbody tr th {\n",
       "        vertical-align: top;\n",
       "    }\n",
       "\n",
       "    .dataframe thead th {\n",
       "        text-align: right;\n",
       "    }\n",
       "</style>\n",
       "<table border=\"1\" class=\"dataframe\">\n",
       "  <thead>\n",
       "    <tr style=\"text-align: right;\">\n",
       "      <th></th>\n",
       "      <th>BI-RADS</th>\n",
       "      <th>Idade</th>\n",
       "      <th>Forma</th>\n",
       "      <th>Margem</th>\n",
       "      <th>Densidade</th>\n",
       "      <th>Severidade</th>\n",
       "    </tr>\n",
       "  </thead>\n",
       "  <tbody>\n",
       "    <tr>\n",
       "      <th>0</th>\n",
       "      <td>5.0</td>\n",
       "      <td>67.0</td>\n",
       "      <td>3.0</td>\n",
       "      <td>5.0</td>\n",
       "      <td>3.0</td>\n",
       "      <td>1</td>\n",
       "    </tr>\n",
       "    <tr>\n",
       "      <th>1</th>\n",
       "      <td>4.0</td>\n",
       "      <td>43.0</td>\n",
       "      <td>1.0</td>\n",
       "      <td>1.0</td>\n",
       "      <td>NaN</td>\n",
       "      <td>1</td>\n",
       "    </tr>\n",
       "    <tr>\n",
       "      <th>2</th>\n",
       "      <td>5.0</td>\n",
       "      <td>58.0</td>\n",
       "      <td>4.0</td>\n",
       "      <td>5.0</td>\n",
       "      <td>3.0</td>\n",
       "      <td>1</td>\n",
       "    </tr>\n",
       "    <tr>\n",
       "      <th>3</th>\n",
       "      <td>4.0</td>\n",
       "      <td>28.0</td>\n",
       "      <td>1.0</td>\n",
       "      <td>1.0</td>\n",
       "      <td>3.0</td>\n",
       "      <td>0</td>\n",
       "    </tr>\n",
       "    <tr>\n",
       "      <th>4</th>\n",
       "      <td>5.0</td>\n",
       "      <td>74.0</td>\n",
       "      <td>1.0</td>\n",
       "      <td>5.0</td>\n",
       "      <td>NaN</td>\n",
       "      <td>1</td>\n",
       "    </tr>\n",
       "  </tbody>\n",
       "</table>\n",
       "</div>"
      ],
      "text/plain": [
       "   BI-RADS  Idade  Forma   Margem   Densidade  Severidade\n",
       "0      5.0   67.0    3.0      5.0         3.0           1\n",
       "1      4.0   43.0    1.0      1.0         NaN           1\n",
       "2      5.0   58.0    4.0      5.0         3.0           1\n",
       "3      4.0   28.0    1.0      1.0         3.0           0\n",
       "4      5.0   74.0    1.0      5.0         NaN           1"
      ]
     },
     "execution_count": 6,
     "metadata": {},
     "output_type": "execute_result"
    }
   ],
   "source": [
    "df.head()"
   ]
  },
  {
   "cell_type": "code",
   "execution_count": 7,
   "metadata": {
    "pycharm": {
     "name": "#%%\n"
    }
   },
   "outputs": [
    {
     "data": {
      "text/plain": [
       "BI-RADS       float64\n",
       "Idade         float64\n",
       "Forma         float64\n",
       " Margem       float64\n",
       " Densidade    float64\n",
       "Severidade      int64\n",
       "dtype: object"
      ]
     },
     "execution_count": 7,
     "metadata": {},
     "output_type": "execute_result"
    }
   ],
   "source": [
    "df.dtypes"
   ]
  },
  {
   "cell_type": "code",
   "execution_count": 9,
   "metadata": {
    "pycharm": {
     "name": "#%%\n"
    }
   },
   "outputs": [
    {
     "name": "stdout",
     "output_type": "stream",
     "text": [
      "Missing Values Benigno: \n",
      "BI-RADS        1\n",
      "Idade          0\n",
      "Forma         19\n",
      " Margem       37\n",
      " Densidade    54\n",
      "Severidade     0\n",
      "dtype: int64\n",
      "\n",
      "Missing Values Maligno: \n",
      "BI-RADS        1\n",
      "Idade          5\n",
      "Forma         12\n",
      " Margem       11\n",
      " Densidade    22\n",
      "Severidade     0\n",
      "dtype: int64\n",
      "\n"
     ]
    }
   ],
   "source": [
    "benigno = df[df['Severidade'] == 0].isnull().sum()\n",
    "print('Missing Values Benigno: ')\n",
    "print(benigno)\n",
    "print()\n",
    "maligno = df[df['Severidade'] == 1].isnull().sum()\n",
    "print('Missing Values Maligno: ')\n",
    "print(maligno)\n",
    "print()"
   ]
  },
  {
   "cell_type": "markdown",
   "metadata": {},
   "source": [
    "-------\n",
    "\n",
    "## Code without refactoring"
   ]
  },
  {
   "cell_type": "code",
   "execution_count": 27,
   "metadata": {
    "pycharm": {
     "name": "#%%\n"
    }
   },
   "outputs": [],
   "source": [
    "def treatment_missing_values_original():\n",
    "    for col in df.columns:\n",
    "        if col != 'Idade':\n",
    "            mode_benigno = df[(df['Severidade'] == 0)][col].mode()[0]\n",
    "            mode_maligno = df[(df['Severidade'] == 1)][col].mode()[0]\n",
    "            df.loc[(df[col].isnull())&(df['Severidade'] == 0), col] = mode_benigno\n",
    "            df.loc[(df[col].isnull())&(df['Severidade'] == 1), col] = mode_maligno\n",
    "            \n",
    "        else:\n",
    "            mean_benigno = df[(df['Severidade'] == 0)][col].mean()\n",
    "            mean_maligno = df[(df['Severidade'] == 1)][col].mean()\n",
    "            df.loc[(df[col].isnull())&(df['Severidade'] == 0), col] = mean_benigno\n",
    "            df.loc[(df[col].isnull())&(df['Severidade'] == 1), col] = mean_maligno"
   ]
  },
  {
   "cell_type": "code",
   "execution_count": 28,
   "metadata": {
    "pycharm": {
     "name": "#%%\n"
    }
   },
   "outputs": [
    {
     "data": {
      "text/plain": [
       "Index(['BI-RADS', 'Idade', 'Forma', ' Margem', ' Densidade', 'Severidade'], dtype='object')"
      ]
     },
     "execution_count": 28,
     "metadata": {},
     "output_type": "execute_result"
    }
   ],
   "source": [
    "df.columns"
   ]
  },
  {
   "cell_type": "code",
   "execution_count": 29,
   "metadata": {
    "pycharm": {
     "name": "#%%\n"
    }
   },
   "outputs": [],
   "source": [
    "treatment_missing_values_original()"
   ]
  },
  {
   "cell_type": "code",
   "execution_count": 30,
   "metadata": {
    "pycharm": {
     "name": "#%%\n"
    }
   },
   "outputs": [
    {
     "data": {
      "text/plain": [
       "BI-RADS       0\n",
       "Idade         0\n",
       "Forma         0\n",
       " Margem       0\n",
       " Densidade    0\n",
       "Severidade    0\n",
       "dtype: int64"
      ]
     },
     "execution_count": 30,
     "metadata": {},
     "output_type": "execute_result"
    }
   ],
   "source": [
    "df.isnull().sum()"
   ]
  },
  {
   "cell_type": "markdown",
   "metadata": {
    "pycharm": {
     "name": "#%% md\n"
    }
   },
   "source": [
    "------\n",
    "\n",
    "# Activite aplicate in classroom\n",
    "\n",
    "1. Write or choose code so that the refactoring can be applied.\n",
    "2. Identify the associated bad smell.\n",
    "3. Write test cases and run\n",
    "4. Apply the refactoring\n",
    "5. Run the test cases again\n",
    "6. Document each step of the presentation\n",
    "\n",
    "**Bad smell**\n",
    "\n",
    "- Long parameter list: The bad smell I found inside the code below was the long parameter list, for having long and unclear queries. This bad smell can bring difficulties or errors in the code."
   ]
  },
  {
   "cell_type": "markdown",
   "metadata": {
    "pycharm": {
     "name": "#%% md\n"
    }
   },
   "source": [
    "------\n",
    "\n",
    "# Procedure"
   ]
  },
  {
   "cell_type": "markdown",
   "metadata": {
    "pycharm": {
     "name": "#%% md\n"
    }
   },
   "source": [
    "**Use Extract Variable in the query code to separate it from the rest of the body of the function.**"
   ]
  },
  {
   "cell_type": "code",
   "execution_count": 74,
   "metadata": {
    "pycharm": {
     "name": "#%%\n"
    }
   },
   "outputs": [
    {
     "data": {
      "text/plain": [
       "(961, 6)"
      ]
     },
     "execution_count": 74,
     "metadata": {},
     "output_type": "execute_result"
    }
   ],
   "source": [
    "refactoreDF = pd.read_csv('data/mamografia.csv')\n",
    "refactoreDF.shape"
   ]
  },
  {
   "cell_type": "code",
   "execution_count": 75,
   "metadata": {
    "pycharm": {
     "name": "#%%\n"
    }
   },
   "outputs": [
    {
     "data": {
      "text/plain": [
       "BI-RADS        2\n",
       "Idade          5\n",
       "Forma         31\n",
       " Margem       48\n",
       " Densidade    76\n",
       "Severidade     0\n",
       "dtype: int64"
      ]
     },
     "execution_count": 75,
     "metadata": {},
     "output_type": "execute_result"
    }
   ],
   "source": [
    "refactoreDF.isnull().sum()"
   ]
  },
  {
   "cell_type": "code",
   "execution_count": 76,
   "metadata": {
    "pycharm": {
     "name": "#%%\n"
    }
   },
   "outputs": [],
   "source": [
    "def treatment_missing_values_refc_01():\n",
    "    cols = refactoreDF.columns\n",
    "    for col in cols:\n",
    "        if col != 'Idade':\n",
    "            mode_benigno = refactoreDF[(refactoreDF['Severidade'] == 0)][col].mode()[0]\n",
    "            mode_maligno = refactoreDF[(refactoreDF['Severidade'] == 1)][col].mode()[0]\n",
    "            refactoreDF.loc[(refactoreDF[col].isnull())&(refactoreDF['Severidade'] == 0), col] = mode_benigno\n",
    "            refactoreDF.loc[(refactoreDF[col].isnull())&(refactoreDF['Severidade'] == 1), col] = mode_maligno\n",
    "        else:\n",
    "            mean_benigno = refactoreDF[(refactoreDF['Severidade'] == 0)][col].mean()\n",
    "            mean_maligno = refactoreDF[(refactoreDF['Severidade'] == 1)][col].mean()\n",
    "            refactoreDF.loc[(refactoreDF[col].isnull())&(refactoreDF['Severidade'] == 0), col] = mean_benigno\n",
    "            refactoreDF.loc[(refactoreDF[col].isnull())&(refactoreDF['Severidade'] == 1), col] = mean_maligno"
   ]
  },
  {
   "cell_type": "code",
   "execution_count": 77,
   "metadata": {
    "pycharm": {
     "name": "#%%\n"
    }
   },
   "outputs": [],
   "source": [
    "treatment_missing_values_refc_01()"
   ]
  },
  {
   "cell_type": "code",
   "execution_count": 78,
   "metadata": {
    "pycharm": {
     "name": "#%%\n"
    }
   },
   "outputs": [
    {
     "data": {
      "text/plain": [
       "BI-RADS       0\n",
       "Idade         0\n",
       "Forma         0\n",
       " Margem       0\n",
       " Densidade    0\n",
       "Severidade    0\n",
       "dtype: int64"
      ]
     },
     "execution_count": 78,
     "metadata": {},
     "output_type": "execute_result"
    }
   ],
   "source": [
    "refactoreDF.isnull().sum()"
   ]
  },
  {
   "cell_type": "markdown",
   "metadata": {
    "pycharm": {
     "name": "#%% md\n"
    }
   },
   "source": [
    "**Apply Extract Function to body code other than the query call. Give the new role an easy-to-search name so you can rename it later.**"
   ]
  },
  {
   "cell_type": "code",
   "execution_count": 79,
   "metadata": {},
   "outputs": [
    {
     "data": {
      "text/plain": [
       "(961, 6)"
      ]
     },
     "execution_count": 79,
     "metadata": {},
     "output_type": "execute_result"
    }
   ],
   "source": [
    "refactoreDF = pd.read_csv('data/mamografia.csv')\n",
    "refactoreDF.shape"
   ]
  },
  {
   "cell_type": "code",
   "execution_count": 80,
   "metadata": {
    "pycharm": {
     "name": "#%%\n"
    }
   },
   "outputs": [
    {
     "data": {
      "text/plain": [
       "BI-RADS        2\n",
       "Idade          5\n",
       "Forma         31\n",
       " Margem       48\n",
       " Densidade    76\n",
       "Severidade     0\n",
       "dtype: int64"
      ]
     },
     "execution_count": 80,
     "metadata": {},
     "output_type": "execute_result"
    }
   ],
   "source": [
    "refactoreDF.isnull().sum()"
   ]
  },
  {
   "cell_type": "code",
   "execution_count": 81,
   "metadata": {
    "pycharm": {
     "name": "#%%\n"
    }
   },
   "outputs": [],
   "source": [
    "def XXXNEWtreatment_missing_values_refc_02(cols):\n",
    "    for col in cols:\n",
    "        if col != 'Idade':\n",
    "            mode_benigno = refactoreDF[(refactoreDF['Severidade'] == 0)][col].mode()[0]\n",
    "            mode_maligno = refactoreDF[(refactoreDF['Severidade'] == 1)][col].mode()[0]\n",
    "            refactoreDF.loc[(refactoreDF[col].isnull())&(refactoreDF['Severidade'] == 0), col] = mode_benigno\n",
    "            refactoreDF.loc[(refactoreDF[col].isnull())&(refactoreDF['Severidade'] == 1), col] = mode_maligno\n",
    "        else:\n",
    "            mean_benigno = refactoreDF[(refactoreDF['Severidade'] == 0)][col].mean()\n",
    "            mean_maligno = refactoreDF[(refactoreDF['Severidade'] == 1)][col].mean()\n",
    "            refactoreDF.loc[(refactoreDF[col].isnull())&(refactoreDF['Severidade'] == 0), col] = mean_benigno\n",
    "            refactoreDF.loc[(refactoreDF[col].isnull())&(refactoreDF['Severidade'] == 1), col] = mean_maligno"
   ]
  },
  {
   "cell_type": "code",
   "execution_count": 82,
   "metadata": {
    "pycharm": {
     "name": "#%%\n"
    }
   },
   "outputs": [],
   "source": [
    "def XXXNEWtreatment_missing_values_refc_02_refactor(): \n",
    "    cols = refactoreDF.columns\n",
    "    return XXXNEWtreatment_missing_values_refc_02(cols)"
   ]
  },
  {
   "cell_type": "code",
   "execution_count": 83,
   "metadata": {
    "pycharm": {
     "name": "#%%\n"
    }
   },
   "outputs": [],
   "source": [
    "XXXNEWtreatment_missing_values_refc_02_refactor()"
   ]
  },
  {
   "cell_type": "code",
   "execution_count": 84,
   "metadata": {
    "pycharm": {
     "name": "#%%\n"
    }
   },
   "outputs": [
    {
     "data": {
      "text/plain": [
       "BI-RADS       0\n",
       "Idade         0\n",
       "Forma         0\n",
       " Margem       0\n",
       " Densidade    0\n",
       "Severidade    0\n",
       "dtype: int64"
      ]
     },
     "execution_count": 84,
     "metadata": {},
     "output_type": "execute_result"
    }
   ],
   "source": [
    "refactoreDF.isnull().sum()"
   ]
  },
  {
   "cell_type": "markdown",
   "metadata": {
    "pycharm": {
     "name": "#%% md\n"
    }
   },
   "source": [
    "**Use Inline Variable to get rid of the variable you just created.**"
   ]
  },
  {
   "cell_type": "code",
   "execution_count": 94,
   "metadata": {},
   "outputs": [
    {
     "data": {
      "text/plain": [
       "(961, 6)"
      ]
     },
     "execution_count": 94,
     "metadata": {},
     "output_type": "execute_result"
    }
   ],
   "source": [
    "refactoreDF = pd.read_csv('data/mamografia.csv')\n",
    "refactoreDF.shape"
   ]
  },
  {
   "cell_type": "code",
   "execution_count": 95,
   "metadata": {
    "pycharm": {
     "name": "#%%\n"
    }
   },
   "outputs": [
    {
     "data": {
      "text/plain": [
       "BI-RADS        2\n",
       "Idade          5\n",
       "Forma         31\n",
       " Margem       48\n",
       " Densidade    76\n",
       "Severidade     0\n",
       "dtype: int64"
      ]
     },
     "execution_count": 95,
     "metadata": {},
     "output_type": "execute_result"
    }
   ],
   "source": [
    "refactoreDF.isnull().sum()"
   ]
  },
  {
   "cell_type": "code",
   "execution_count": 96,
   "metadata": {
    "pycharm": {
     "name": "#%%\n"
    }
   },
   "outputs": [],
   "source": [
    "def XXXNEWtreatment_missing_values_refc_03(cols):\n",
    "    for col in cols:\n",
    "        if col != 'Idade':\n",
    "            mode_benigno = refactoreDF[(refactoreDF['Severidade'] == 0)][col].mode()[0]\n",
    "            mode_maligno = refactoreDF[(refactoreDF['Severidade'] == 1)][col].mode()[0]\n",
    "            refactoreDF.loc[(refactoreDF[col].isnull())&(refactoreDF['Severidade'] == 0), col] = mode_benigno\n",
    "            refactoreDF.loc[(refactoreDF[col].isnull())&(refactoreDF['Severidade'] == 1), col] = mode_maligno\n",
    "        else:\n",
    "            mean_benigno = refactoreDF[(refactoreDF['Severidade'] == 0)][col].mean()\n",
    "            mean_maligno = refactoreDF[(refactoreDF['Severidade'] == 1)][col].mean()\n",
    "            refactoreDF.loc[(refactoreDF[col].isnull())&(refactoreDF['Severidade'] == 0), col] = mean_benigno\n",
    "            refactoreDF.loc[(refactoreDF[col].isnull())&(refactoreDF['Severidade'] == 1), col] = mean_maligno"
   ]
  },
  {
   "cell_type": "code",
   "execution_count": 97,
   "metadata": {
    "pycharm": {
     "name": "#%%\n"
    }
   },
   "outputs": [],
   "source": [
    "def XXXNEWtreatment_missing_values_refc_03_refactor(): # tratar_ausentes_refatora() está escrito refatora, para não chamar a outra função tratar_ausentes()\n",
    "    return XXXNEWtreatment_missing_values_refc_03(refactoreDF.columns)"
   ]
  },
  {
   "cell_type": "code",
   "execution_count": 98,
   "metadata": {
    "pycharm": {
     "name": "#%%\n"
    }
   },
   "outputs": [
    {
     "data": {
      "text/plain": [
       "BI-RADS       0\n",
       "Idade         0\n",
       "Forma         0\n",
       " Margem       0\n",
       " Densidade    0\n",
       "Severidade    0\n",
       "dtype: int64"
      ]
     },
     "execution_count": 98,
     "metadata": {},
     "output_type": "execute_result"
    }
   ],
   "source": [
    "XXXNEWtreatment_missing_values_refc_03_refactor()\n",
    "refactoreDF.isnull().sum()"
   ]
  },
  {
   "cell_type": "markdown",
   "metadata": {
    "pycharm": {
     "name": "#%% md\n"
    }
   },
   "source": [
    "**Use Inline Variable to get rid of the variable you just created.**"
   ]
  },
  {
   "cell_type": "code",
   "execution_count": 105,
   "metadata": {},
   "outputs": [
    {
     "data": {
      "text/plain": [
       "(961, 6)"
      ]
     },
     "execution_count": 105,
     "metadata": {},
     "output_type": "execute_result"
    }
   ],
   "source": [
    "refactoreDF = pd.read_csv('data/mamografia.csv')\n",
    "refactoreDF.shape"
   ]
  },
  {
   "cell_type": "code",
   "execution_count": 106,
   "metadata": {
    "pycharm": {
     "name": "#%%\n"
    }
   },
   "outputs": [
    {
     "data": {
      "text/plain": [
       "BI-RADS        2\n",
       "Idade          5\n",
       "Forma         31\n",
       " Margem       48\n",
       " Densidade    76\n",
       "Severidade     0\n",
       "dtype: int64"
      ]
     },
     "execution_count": 106,
     "metadata": {},
     "output_type": "execute_result"
    }
   ],
   "source": [
    "refactoreDF.isnull().sum()"
   ]
  },
  {
   "cell_type": "code",
   "execution_count": 107,
   "metadata": {
    "pycharm": {
     "name": "#%%\n"
    }
   },
   "outputs": [],
   "source": [
    "def XXXNEWtreatment_missing_values_refc_04(cols):\n",
    "    for col in cols:\n",
    "        if col != 'Idade':\n",
    "            mode_benigno = refactoreDF[(refactoreDF['Severidade'] == 0)][col].mode()[0]\n",
    "            mode_maligno = refactoreDF[(refactoreDF['Severidade'] == 1)][col].mode()[0]\n",
    "            refactoreDF.loc[(refactoreDF[col].isnull())&(refactoreDF['Severidade'] == 0), col] = mode_benigno\n",
    "            refactoreDF.loc[(refactoreDF[col].isnull())&(refactoreDF['Severidade'] == 1), col] = mode_maligno\n",
    "        else:\n",
    "            mean_benigno = refactoreDF[(refactoreDF['Severidade'] == 0)][col].mean()\n",
    "            mean_maligno = refactoreDF[(refactoreDF['Severidade'] == 1)][col].mean()\n",
    "            refactoreDF.loc[(refactoreDF[col].isnull())&(refactoreDF['Severidade'] == 0), col] = mean_benigno\n",
    "            refactoreDF.loc[(refactoreDF[col].isnull())&(refactoreDF['Severidade'] == 1), col] = mean_maligno"
   ]
  },
  {
   "cell_type": "code",
   "execution_count": 108,
   "metadata": {
    "pycharm": {
     "name": "#%%\n"
    }
   },
   "outputs": [],
   "source": [
    "#def XXXNEWtreatment_missing_values_refc_03_refactor(): \n",
    "#    return XXXNEWtreatment_missing_values_refc_03(refactoreDF.columns)"
   ]
  },
  {
   "cell_type": "code",
   "execution_count": 109,
   "metadata": {
    "pycharm": {
     "name": "#%%\n"
    }
   },
   "outputs": [],
   "source": [
    "XXXNEWtreatment_missing_values_refc_04(refactoreDF.columns)"
   ]
  },
  {
   "cell_type": "code",
   "execution_count": 110,
   "metadata": {
    "pycharm": {
     "name": "#%%\n"
    }
   },
   "outputs": [
    {
     "data": {
      "text/plain": [
       "BI-RADS       0\n",
       "Idade         0\n",
       "Forma         0\n",
       " Margem       0\n",
       " Densidade    0\n",
       "Severidade    0\n",
       "dtype: int64"
      ]
     },
     "execution_count": 110,
     "metadata": {},
     "output_type": "execute_result"
    }
   ],
   "source": [
    "refactoreDF.isnull().sum()"
   ]
  },
  {
   "cell_type": "markdown",
   "metadata": {
    "pycharm": {
     "name": "#%% md\n"
    }
   },
   "source": [
    "**Rename the new function by giving it the name of the original function.**"
   ]
  },
  {
   "cell_type": "code",
   "execution_count": 113,
   "metadata": {},
   "outputs": [
    {
     "data": {
      "text/plain": [
       "(961, 6)"
      ]
     },
     "execution_count": 113,
     "metadata": {},
     "output_type": "execute_result"
    }
   ],
   "source": [
    "refactoreDF = pd.read_csv('data/mamografia.csv')\n",
    "refactoreDF.shape"
   ]
  },
  {
   "cell_type": "code",
   "execution_count": 114,
   "metadata": {
    "pycharm": {
     "name": "#%%\n"
    }
   },
   "outputs": [
    {
     "data": {
      "text/plain": [
       "BI-RADS        2\n",
       "Idade          5\n",
       "Forma         31\n",
       " Margem       48\n",
       " Densidade    76\n",
       "Severidade     0\n",
       "dtype: int64"
      ]
     },
     "execution_count": 114,
     "metadata": {},
     "output_type": "execute_result"
    }
   ],
   "source": [
    "refactoreDF.isnull().sum()"
   ]
  },
  {
   "cell_type": "code",
   "execution_count": 115,
   "metadata": {
    "pycharm": {
     "name": "#%%\n"
    }
   },
   "outputs": [],
   "source": [
    "def treatment_missing_values_refc_05(cols):\n",
    "    for col in cols:\n",
    "        if col != 'Idade':\n",
    "            mode_benigno = refactoreDF[(refactoreDF['Severidade'] == 0)][col].mode()[0]\n",
    "            mode_maligno = refactoreDF[(refactoreDF['Severidade'] == 1)][col].mode()[0]\n",
    "            refactoreDF.loc[(refactoreDF[col].isnull())&(refactoreDF['Severidade'] == 0), col] = mode_benigno\n",
    "            refactoreDF.loc[(refactoreDF[col].isnull())&(refactoreDF['Severidade'] == 1), col] = mode_maligno\n",
    "        else:\n",
    "            mean_benigno = refactoreDF[(refactoreDF['Severidade'] == 0)][col].mean()\n",
    "            mean_maligno = refactoreDF[(refactoreDF['Severidade'] == 1)][col].mean()\n",
    "            refactoreDF.loc[(refactoreDF[col].isnull())&(refactoreDF['Severidade'] == 0), col] = mean_benigno\n",
    "            refactoreDF.loc[(refactoreDF[col].isnull())&(refactoreDF['Severidade'] == 1), col] = mean_maligno"
   ]
  },
  {
   "cell_type": "code",
   "execution_count": 116,
   "metadata": {
    "pycharm": {
     "name": "#%%\n"
    }
   },
   "outputs": [],
   "source": [
    "treatment_missing_values_refc_05(refactoreDF.columns)"
   ]
  },
  {
   "cell_type": "code",
   "execution_count": 117,
   "metadata": {
    "pycharm": {
     "name": "#%%\n"
    }
   },
   "outputs": [
    {
     "data": {
      "text/plain": [
       "BI-RADS       0\n",
       "Idade         0\n",
       "Forma         0\n",
       " Margem       0\n",
       " Densidade    0\n",
       "Severidade    0\n",
       "dtype: int64"
      ]
     },
     "execution_count": 117,
     "metadata": {},
     "output_type": "execute_result"
    }
   ],
   "source": [
    "refactoreDF.isnull().sum()"
   ]
  },
  {
   "cell_type": "markdown",
   "metadata": {},
   "source": [
    "----------"
   ]
  },
  {
   "cell_type": "code",
   "execution_count": null,
   "metadata": {},
   "outputs": [],
   "source": []
  }
 ],
 "metadata": {
  "kernelspec": {
   "display_name": "Python 3 (ipykernel)",
   "language": "python",
   "name": "python3"
  },
  "language_info": {
   "codemirror_mode": {
    "name": "ipython",
    "version": 3
   },
   "file_extension": ".py",
   "mimetype": "text/x-python",
   "name": "python",
   "nbconvert_exporter": "python",
   "pygments_lexer": "ipython3",
   "version": "3.9.0"
  }
 },
 "nbformat": 4,
 "nbformat_minor": 4
}
